{
 "cells": [
  {
   "cell_type": "code",
   "execution_count": 5,
   "metadata": {
    "collapsed": false
   },
   "outputs": [],
   "source": [
    "sqlContext = SQLContext(sc)"
   ]
  },
  {
   "cell_type": "code",
   "execution_count": 6,
   "metadata": {
    "collapsed": false
   },
   "outputs": [
    {
     "name": "stdout",
     "output_type": "stream",
     "text": [
      "root\n",
      " |-- LI_REGION: string (nullable = true)\n",
      " |-- LI_SALE_NUMBER: string (nullable = true)\n",
      " |-- LI_ITEM_LOT_NO: integer (nullable = true)\n",
      " |-- S_SALE_DATE: date (nullable = true)\n",
      " |-- C_CONTRACT_NO: string (nullable = true)\n",
      " |-- C_BID_AMOUNT: integer (nullable = true)\n",
      " |-- LI_AGENCY: string (nullable = true)\n",
      " |-- LI_JUL: integer (nullable = true)\n",
      " |-- LI_ITEM_CTL_NO: string (nullable = true)\n",
      " |-- LI_ITEM_SUFFIX: string (nullable = true)\n",
      " |-- LI_FSC: integer (nullable = true)\n",
      " |-- LI_ITEM_NAME: string (nullable = true)\n",
      " |-- LI_AGENCY_ADDR_LINE_1: string (nullable = true)\n",
      " |-- LI_AGENCY_ADDR_LINE_2: string (nullable = true)\n",
      " |-- LI_AGENCY_ADDR_LINE_3: string (nullable = true)\n",
      " |-- LI_AGENCY_CITY: string (nullable = true)\n",
      " |-- LI_AGENCY_STATE: string (nullable = true)\n",
      " |-- LI_AGENCY_ZIP: integer (nullable = true)\n",
      " |-- LI_PROP_ADR_LINE1: string (nullable = true)\n",
      " |-- LI_PROP_ADR_LINE2: string (nullable = true)\n",
      " |-- LI_PROP_ADR_LINE3: string (nullable = true)\n",
      " |-- LI_PROP_CITY: string (nullable = true)\n",
      " |-- LI_PROP_STATE: string (nullable = true)\n",
      " |-- LI_PROP_ZIP: integer (nullable = true)\n",
      " |-- S_ADDR_LINE_1: string (nullable = true)\n",
      " |-- S_ADDR_LINE_2: string (nullable = true)\n",
      " |-- S_ADDR_LINE_3: string (nullable = true)\n",
      " |-- S_CITY: string (nullable = true)\n",
      " |-- S_STATE: string (nullable = true)\n",
      " |-- S_ZIP: integer (nullable = true)\n",
      "\n"
     ]
    }
   ],
   "source": [
    "props = {}\n",
    "props['user'] = 'dash6718'\n",
    "props['password'] = 'yfrZsCQTr6Hj'\n",
    "\n",
    "jdbcurl='jdbc:db2://dashdb-entry-yp-dal09-10.services.dal.bluemix.net:50000/BLUDB'\n",
    "\n",
    "#get the data frame\n",
    "df_Sales = sqlContext.read.jdbc(jdbcurl, 'DASH6718.AUCTION_SALE_DATA', properties=props)\n",
    "df_Sales.printSchema()"
   ]
  },
  {
   "cell_type": "code",
   "execution_count": 7,
   "metadata": {
    "collapsed": false
   },
   "outputs": [
    {
     "data": {
      "text/plain": [
       "33959"
      ]
     },
     "execution_count": 7,
     "metadata": {},
     "output_type": "execute_result"
    }
   ],
   "source": [
    "df_Sales.count()"
   ]
  },
  {
   "cell_type": "code",
   "execution_count": 8,
   "metadata": {
    "collapsed": false
   },
   "outputs": [
    {
     "data": {
      "text/plain": [
       "[Row(LI_REGION=u'3', LI_SALE_NUMBER=u'31QSCI09030', LI_ITEM_LOT_NO=4, S_SALE_DATE=datetime.date(2008, 11, 5), C_CONTRACT_NO=u'GS03F09FBE0649', C_BID_AMOUNT=949, LI_AGENCY=u'1524A1', LI_JUL=9301, LI_ITEM_CTL_NO=u'4', LI_ITEM_SUFFIX=None, LI_FSC=2310, LI_ITEM_NAME=u'1994 CHEVROLET P-30 VAN', LI_AGENCY_ADDR_LINE_1=u'USP LEWISBURG', LI_AGENCY_ADDR_LINE_2=u'2400 ROBERT F. MILLER DRIVE', LI_AGENCY_ADDR_LINE_3=None, LI_AGENCY_CITY=u'LEWISBURG', LI_AGENCY_STATE=u'PA', LI_AGENCY_ZIP=178370000, LI_PROP_ADR_LINE1=u'USP LEWISBURG', LI_PROP_ADR_LINE2=u'2400 ROBERT F. MILLER DRIVE', LI_PROP_ADR_LINE3=None, LI_PROP_CITY=u'LEWISBURG', LI_PROP_STATE=u'PA', LI_PROP_ZIP=178370000, S_ADDR_LINE_1=u'GSA, FAS, PROPERTY MGMT DIV', S_ADDR_LINE_2=u\"THE STRAWBRIDGE'S BLDG.\", S_ADDR_LINE_3=u'20 N. 8TH ST., 10TH FLOOR', S_CITY=u'PHILADELPHIA', S_STATE=u'PA', S_ZIP=191070000),\n",
       " Row(LI_REGION=u'3', LI_SALE_NUMBER=u'31QSCI09030', LI_ITEM_LOT_NO=3, S_SALE_DATE=datetime.date(2008, 11, 5), C_CONTRACT_NO=u'GS03F09FBE0648', C_BID_AMOUNT=5729, LI_AGENCY=u'1524A1', LI_JUL=9301, LI_ITEM_CTL_NO=u'3', LI_ITEM_SUFFIX=None, LI_FSC=2320, LI_ITEM_NAME=u'1999  FORD E350 VAN', LI_AGENCY_ADDR_LINE_1=u'USP LEWISBURG', LI_AGENCY_ADDR_LINE_2=u'2400 ROBERT F. MILLER DRIVE', LI_AGENCY_ADDR_LINE_3=None, LI_AGENCY_CITY=u'LEWISBURG', LI_AGENCY_STATE=u'PA', LI_AGENCY_ZIP=178370000, LI_PROP_ADR_LINE1=u'USP LEWISBURG', LI_PROP_ADR_LINE2=u'2400 ROBERT F. MILLER DRIVE', LI_PROP_ADR_LINE3=None, LI_PROP_CITY=u'LEWISBURG', LI_PROP_STATE=u'PA', LI_PROP_ZIP=178370000, S_ADDR_LINE_1=u'GSA, FAS, PROPERTY MGMT DIV', S_ADDR_LINE_2=u\"THE STRAWBRIDGE'S BLDG.\", S_ADDR_LINE_3=u'20 N. 8TH ST., 10TH FLOOR', S_CITY=u'PHILADELPHIA', S_STATE=u'PA', S_ZIP=191070000),\n",
       " Row(LI_REGION=u'3', LI_SALE_NUMBER=u'31QSCI09030', LI_ITEM_LOT_NO=2, S_SALE_DATE=datetime.date(2008, 11, 5), C_CONTRACT_NO=u'GS03F09FBE0647', C_BID_AMOUNT=3770, LI_AGENCY=u'1524A1', LI_JUL=9301, LI_ITEM_CTL_NO=u'2', LI_ITEM_SUFFIX=None, LI_FSC=2310, LI_ITEM_NAME=u'1999 FORD CROWN VICTORIA', LI_AGENCY_ADDR_LINE_1=u'USP LEWISBURG', LI_AGENCY_ADDR_LINE_2=u'2400 ROBERT F. MILLER DRIVE', LI_AGENCY_ADDR_LINE_3=None, LI_AGENCY_CITY=u'LEWISBURG', LI_AGENCY_STATE=u'PA', LI_AGENCY_ZIP=178370000, LI_PROP_ADR_LINE1=u'USP LEWISBURG', LI_PROP_ADR_LINE2=u'2400 ROBERT F. MILLER DRIVE', LI_PROP_ADR_LINE3=None, LI_PROP_CITY=u'LEWISBURG', LI_PROP_STATE=u'PA', LI_PROP_ZIP=178370000, S_ADDR_LINE_1=u'GSA, FAS, PROPERTY MGMT DIV', S_ADDR_LINE_2=u\"THE STRAWBRIDGE'S BLDG.\", S_ADDR_LINE_3=u'20 N. 8TH ST., 10TH FLOOR', S_CITY=u'PHILADELPHIA', S_STATE=u'PA', S_ZIP=191070000),\n",
       " Row(LI_REGION=u'3', LI_SALE_NUMBER=u'31QSCI09030', LI_ITEM_LOT_NO=1, S_SALE_DATE=datetime.date(2008, 11, 5), C_CONTRACT_NO=u'GS03F09FBE0646', C_BID_AMOUNT=1120, LI_AGENCY=u'1524A1', LI_JUL=9301, LI_ITEM_CTL_NO=u'1', LI_ITEM_SUFFIX=None, LI_FSC=2310, LI_ITEM_NAME=u'1996 DODGE 3500 VAN', LI_AGENCY_ADDR_LINE_1=u'USP LEWISBURG', LI_AGENCY_ADDR_LINE_2=u'2400 ROBERT F. MILLER DRIVE', LI_AGENCY_ADDR_LINE_3=None, LI_AGENCY_CITY=u'LEWISBURG', LI_AGENCY_STATE=u'PA', LI_AGENCY_ZIP=178370000, LI_PROP_ADR_LINE1=u'USP LEWISBURG', LI_PROP_ADR_LINE2=u'2400 ROBERT F. MILLER DRIVE', LI_PROP_ADR_LINE3=None, LI_PROP_CITY=u'LEWISBURG', LI_PROP_STATE=u'PA', LI_PROP_ZIP=178370000, S_ADDR_LINE_1=u'GSA, FAS, PROPERTY MGMT DIV', S_ADDR_LINE_2=u\"THE STRAWBRIDGE'S BLDG.\", S_ADDR_LINE_3=u'20 N. 8TH ST., 10TH FLOOR', S_CITY=u'PHILADELPHIA', S_STATE=u'PA', S_ZIP=191070000),\n",
       " Row(LI_REGION=u'3', LI_SALE_NUMBER=u'31QSCI09031', LI_ITEM_LOT_NO=1, S_SALE_DATE=datetime.date(2008, 11, 5), C_CONTRACT_NO=u'GS03F09FBE0645', C_BID_AMOUNT=None, LI_AGENCY=u'703112', LI_JUL=8309, LI_ITEM_CTL_NO=u'1', LI_ITEM_SUFFIX=None, LI_FSC=2331, LI_ITEM_NAME=u'ONE LOT OF 10 MOBILE HOMES', LI_AGENCY_ADDR_LINE_1=u'FEMA LOGISTICS-HEADQUARTERS', LI_AGENCY_ADDR_LINE_2=u'FEDERAL CENTER PLAZA', LI_AGENCY_ADDR_LINE_3=u'500 C STREET SW', LI_AGENCY_CITY=u'WASHINGTON', LI_AGENCY_STATE=u'DC', LI_AGENCY_ZIP=204720000, LI_PROP_ADR_LINE1=u'FEMA STAGING AREA', LI_PROP_ADR_LINE2=u'12128 NEW GEORGES CREEK ROAD SW', LI_PROP_ADR_LINE3=None, LI_PROP_CITY=u'FROSTBURG', LI_PROP_STATE=u'MD', LI_PROP_ZIP=215320000, S_ADDR_LINE_1=u'GSA, FAS, PROPERTY MGMT DIV', S_ADDR_LINE_2=u\"THE STRAWBRIDGE'S BLDG.\", S_ADDR_LINE_3=u'20 N. 8TH ST., 10TH FLOOR', S_CITY=u'PHILADELPHIA', S_STATE=u'PA', S_ZIP=191070000)]"
      ]
     },
     "execution_count": 8,
     "metadata": {},
     "output_type": "execute_result"
    }
   ],
   "source": [
    "df_Sales.take(5)"
   ]
  },
  {
   "cell_type": "code",
   "execution_count": null,
   "metadata": {
    "collapsed": true
   },
   "outputs": [],
   "source": []
  }
 ],
 "metadata": {
  "kernelspec": {
   "display_name": "Python 2",
   "language": "python",
   "name": "python2"
  },
  "language_info": {
   "codemirror_mode": {
    "name": "ipython",
    "version": 2
   },
   "file_extension": ".py",
   "mimetype": "text/x-python",
   "name": "python",
   "nbconvert_exporter": "python",
   "pygments_lexer": "ipython2",
   "version": "2.7.11"
  }
 },
 "nbformat": 4,
 "nbformat_minor": 0
}