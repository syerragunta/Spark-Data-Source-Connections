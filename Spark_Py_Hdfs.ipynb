{
 "cells": [
  {
   "cell_type": "code",
   "execution_count": null,
   "metadata": {
    "collapsed": true
   },
   "outputs": [],
   "source": [
    "!pip install certifi"
   ]
  },
  {
   "cell_type": "code",
   "execution_count": null,
   "metadata": {
    "collapsed": true
   },
   "outputs": [],
   "source": [
    "!pip install urllib3[secure]"
   ]
  },
  {
   "cell_type": "code",
   "execution_count": 11,
   "metadata": {
    "collapsed": true
   },
   "outputs": [],
   "source": [
    "# Worked\n",
    "#  Cluster number, e.g. 100000\n",
    "cluster  = '10000'\n",
    "\n",
    "# Cluster username\n",
    "username = 'yerrags'\n",
    "\n",
    "# Cluster password\n",
    "password = 'venkateshudu123'\n",
    "\n",
    "# file path in HDFS\n",
    "filepath = 'user/yerrags/test_space/cust.csv'"
   ]
  },
  {
   "cell_type": "code",
   "execution_count": 12,
   "metadata": {
    "collapsed": true
   },
   "outputs": [],
   "source": [
    "import pandas as pd\n",
    "        \n",
    "def read_csv_lines(lines, is_first_chunk = False):\n",
    "    ''' returns a pandas dataframe '''\n",
    "    \n",
    "    if is_first_chunk:\n",
    "        # you will want to set the header here if your datafile has a header record\n",
    "        return pd.read_csv(lines, sep='|', header=None)\n",
    "    else:\n",
    "        return pd.read_csv(lines, sep='|', header=None)\n"
   ]
  },
  {
   "cell_type": "code",
   "execution_count": 16,
   "metadata": {
    "collapsed": false
   },
   "outputs": [],
   "source": [
    "# host = 'ehaasp-{0}-mastermanager.bi.services.bluemix.net'.format(cluster)\n",
    "\n",
    "host = 'bi-hadoop-prod-4145.bi.services.us-south.bluemix.net'\n"
   ]
  },
  {
   "cell_type": "code",
   "execution_count": 14,
   "metadata": {
    "collapsed": false
   },
   "outputs": [
    {
     "name": "stdout",
     "output_type": "stream",
     "text": [
      "SCRIPT START: 2016-09-15 11:38:58.709639\n"
     ]
    },
    {
     "name": "stderr",
     "output_type": "stream",
     "text": [
      "/usr/local/src/bluemix_jupyter_bundle.v14/notebook/lib/python2.7/site-packages/requests/packages/urllib3/connectionpool.py:791: InsecureRequestWarning: Unverified HTTPS request is being made. Adding certificate verification is strongly advised. See: https://urllib3.readthedocs.org/en/latest/security.html\n",
      "  InsecureRequestWarning)\n",
      "/usr/local/src/bluemix_jupyter_bundle.v14/notebook/lib/python2.7/site-packages/requests/packages/urllib3/connectionpool.py:791: InsecureRequestWarning: Unverified HTTPS request is being made. Adding certificate verification is strongly advised. See: https://urllib3.readthedocs.org/en/latest/security.html\n",
      "  InsecureRequestWarning)\n"
     ]
    },
    {
     "name": "stdout",
     "output_type": "stream",
     "text": [
      "Imported chunk: 1 record count: 4 df count: 4\n",
      "\n",
      "Total record import count: 4\n",
      "SCRIPT END: 2016-09-15 11:39:08.525407\n"
     ]
    },
    {
     "data": {
      "text/plain": [
       "DataFrame[0: string, 1: string, 2: string]"
      ]
     },
     "execution_count": 14,
     "metadata": {},
     "output_type": "execute_result"
    }
   ],
   "source": [
    "import requests\n",
    "import numpy as np\n",
    "import sys\n",
    "import datetime\n",
    "\n",
    "if sys.version_info[0] < 3: \n",
    "    from StringIO import StringIO\n",
    "else:\n",
    "    from io import StringIO\n",
    "    \n",
    "from pyspark.sql import SQLContext\n",
    "sqlContext = SQLContext(sc)\n",
    "\n",
    "print('SCRIPT START: {0}'.format(datetime.datetime.now()))\n",
    "\n",
    "chunk_size = 10000000 # Read in 100 Mb chunks\n",
    "\n",
    "url = \"https://{0}:8443/gateway/default/webhdfs/v1/{1}?op=OPEN\".format(host, filepath)\n",
    "\n",
    "# note SSL verification is been disabled\n",
    "r = requests.get(url, \n",
    "                 auth=(username, password), \n",
    "                 verify=False, \n",
    "                 allow_redirects=True, \n",
    "                 stream=True)\n",
    "\n",
    "r.raise_for_status()\n",
    "\n",
    "df = None\n",
    "chunk_num = 1\n",
    "remainder = ''\n",
    "for chunk in r.iter_content(chunk_size):\n",
    "    \n",
    "    if chunk: # filter out keep-alive new chunks\n",
    "        \n",
    "        # Show progress by printing a dot - useful when chunk size is quite small\n",
    "        # sys.stdout.write('.')\n",
    "        # sys.stdout.flush()\n",
    "\n",
    "        txt = remainder + chunk\n",
    "        if '\\n' in txt:\n",
    "            [lines, remainder] = txt.rsplit('\\n', 1)\n",
    "        else:\n",
    "            lines = txt\n",
    "\n",
    "        if chunk_num == 1:\n",
    "            pdf = read_csv_lines(StringIO(lines), True)\n",
    "            df = sqlContext.createDataFrame(pdf)\n",
    "        else:\n",
    "            pdf = read_csv_lines(StringIO(lines), False)\n",
    "            df2 = sqlContext.createDataFrame(pdf)\n",
    "            \n",
    "            df = df.sql_ctx.createDataFrame(\n",
    "                    df._sc.union([df.rdd, df2.rdd]), df.schema\n",
    "                    )\n",
    "            \n",
    "        print('Imported chunk: {0} record count: {1} df count: {2}'.format(chunk_num, len(pdf), df.count()))\n",
    "            \n",
    "        chunk_num = chunk_num + 1\n",
    "        \n",
    "print '\\nTotal record import count: {0}'.format(df.count())\n",
    "\n",
    "print('SCRIPT END: {0}'.format(datetime.datetime.now()))\n",
    "\n",
    "df.cache()"
   ]
  },
  {
   "cell_type": "code",
   "execution_count": 15,
   "metadata": {
    "collapsed": false
   },
   "outputs": [
    {
     "name": "stdout",
     "output_type": "stream",
     "text": [
      "+-----+--------+---+\n",
      "|    0|       1|  2|\n",
      "+-----+--------+---+\n",
      "|Empid|    Name| Id|\n",
      "|  001|Sreedhar| 98|\n",
      "|  002|   Latha| 99|\n",
      "|  003|Architha| 90|\n",
      "+-----+--------+---+\n",
      "\n"
     ]
    }
   ],
   "source": [
    "df.show()\n"
   ]
  },
  {
   "cell_type": "code",
   "execution_count": null,
   "metadata": {
    "collapsed": true
   },
   "outputs": [],
   "source": []
  }
 ],
 "metadata": {
  "kernelspec": {
   "display_name": "Python 2",
   "language": "python",
   "name": "python2"
  },
  "language_info": {
   "codemirror_mode": {
    "name": "ipython",
    "version": 2
   },
   "file_extension": ".py",
   "mimetype": "text/x-python",
   "name": "python",
   "nbconvert_exporter": "python",
   "pygments_lexer": "ipython2",
   "version": "2.7.11"
  }
 },
 "nbformat": 4,
 "nbformat_minor": 0
}